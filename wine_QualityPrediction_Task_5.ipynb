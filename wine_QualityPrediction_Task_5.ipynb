{
  "cells": [
    {
      "cell_type": "markdown",
      "id": "f8515b67",
      "metadata": {
        "papermill": {
          "duration": 0.009871,
          "end_time": "2023-11-02T14:34:11.626237",
          "exception": false,
          "start_time": "2023-11-02T14:34:11.616366",
          "status": "completed"
        },
        "tags": [],
        "id": "f8515b67"
      },
      "source": [
        "# Table of Contents\n",
        "1. [Introduction](#intro)\n",
        "2. [Setup](#setup_huh)\n",
        "3. [Red vs White](#rvw)\n",
        "   * [Predicting Wine Color](#rvw_prediction)\n",
        "   * [Important Features for Wine Color](#rvw_feature_importance)\n",
        "   * [Why Are These Features Important?](#rvw_feature_importance_why)\n",
        "   * [Simplifying the Model](#rvw_simplified)\n",
        "4. [Quality Prediction](#qp)\n",
        "   * [Regression vs Classification](#qp_reg_vs_class)\n",
        "      * [Issues with the Metric](#qp_issues_metric)\n",
        "      * [Issues with Scoring](#qp_issues_scoring)\n",
        "   * [Dataset Preparation](#qp_prep)\n",
        "   * [Effective Degrees of Freedom](#qp_dof)\n",
        "   * [Models Phase One - Algorithm Selection](#qp_models_p1)\n",
        "   * [Models Phase Two - Feature Importance](#qp_models_p2)\n",
        "      * [Dimensionality Reduction - Whites](#qp_dr_whites)\n",
        "      * [Dimensionality Reduction - Reds](#qp_dr_reds)"
      ]
    },
    {
      "cell_type": "markdown",
      "id": "483d27fd",
      "metadata": {
        "papermill": {
          "duration": 0.00915,
          "end_time": "2023-11-02T14:34:11.645044",
          "exception": false,
          "start_time": "2023-11-02T14:34:11.635894",
          "status": "completed"
        },
        "tags": [],
        "id": "483d27fd"
      },
      "source": [
        "<a id='intro'></a>\n",
        "# Introduction\n",
        "The wine quality dataset originated with the work of Paulo Cortez, who has made it available for download on [his website][1].  Dr. Cortez donated the dataset to the [UC Irvine Machine Learning Repository][2], and it has subsequently been uploaded to kaggle multiple times.\n",
        "\n",
        "The original dataset consisted of two databases, one for red wines and another for whites. Some kagglers uploaded just the red wines; others just the whites. Sometimes they uploaded the full database; other times just a portion. One kaggler uploaded the combined databases, but unfortuantely replicated each record roughly 5 times. The following kagglers, however, appear to have uploaded a faithful representation of Dr. Cortez' original dataset, retaining both the red and white databases:\n",
        "* [Shelvi Garg][3]\n",
        "* [Dumindu Kavinda][4]\n",
        "* [Rag Parmar][5]\n",
        "\n",
        "In the current notebook, we focus on building the simplest machine learning model we can while still retaining a high level of predictivity. With the white wines, we found that the model could attain a 95% accuracy while using just three of the avaialble features, (```fixed acidity```, ```total sulfur dioxide```,```sulphates```).  With the red wines, we could attain that accuracy with just two features, (```alcohol```, ```density```).  In doing so, we did have to employ a ***slightly*** customized scoring methodology, as we felt that the out-of-the-box methodology was misleading for the problem at hand.  \n",
        "\n",
        "Reference:<br>\n",
        "<i>P. Cortez, A. Cerdeira, F. Almeida, T. Matos and J. Reis. [Modeling wine preferences by data mining from physicochemical properties][6]. In Decision Support Systems, Elsevier, 47(4):547-553, 2009.</i>\n",
        "\n",
        "[1]:https://pcortez.dsi.uminho.pt/\n",
        "[2]:https://archive.ics.uci.edu/dataset/186/wine+quality\n",
        "[3]:https://www.kaggle.com/datasets/shelvigarg/wine-quality-dataset\n",
        "[4]:https://www.kaggle.com/datasets/greatdk/wine-quality-dataset/data\n",
        "[5]:https://www.kaggle.com/datasets/rajyellow46/wine-quality\n",
        "[6]:http://repositorium.sdum.uminho.pt/bitstream/1822/10029/1/wine5.pdf\n"
      ]
    },
    {
      "cell_type": "markdown",
      "id": "024c681b",
      "metadata": {
        "papermill": {
          "duration": 0.009177,
          "end_time": "2023-11-02T14:34:11.663641",
          "exception": false,
          "start_time": "2023-11-02T14:34:11.654464",
          "status": "completed"
        },
        "tags": [],
        "id": "024c681b"
      },
      "source": [
        "<a id='setup_huh'></a>\n",
        "# Setup"
      ]
    },
    {
      "cell_type": "code",
      "execution_count": null,
      "id": "3116cdca",
      "metadata": {
        "execution": {
          "iopub.execute_input": "2023-11-02T14:34:11.684931Z",
          "iopub.status.busy": "2023-11-02T14:34:11.684478Z",
          "iopub.status.idle": "2023-11-02T14:34:14.229500Z",
          "shell.execute_reply": "2023-11-02T14:34:14.228368Z"
        },
        "papermill": {
          "duration": 2.559247,
          "end_time": "2023-11-02T14:34:14.232236",
          "exception": false,
          "start_time": "2023-11-02T14:34:11.672989",
          "status": "completed"
        },
        "tags": [],
        "id": "3116cdca"
      },
      "outputs": [],
      "source": [
        "import matplotlib.pyplot as plt\n",
        "import numpy as np\n",
        "import pandas as pd\n",
        "import seaborn as sns\n",
        "\n",
        "from sklearn.inspection import permutation_importance\n",
        "from sklearn.model_selection import train_test_split\n",
        "from sklearn.model_selection import GridSearchCV\n",
        "from sklearn.pipeline import Pipeline\n",
        "from sklearn.preprocessing import StandardScaler\n",
        "\n",
        "from sklearn.ensemble import AdaBoostRegressor\n",
        "from sklearn.ensemble import RandomForestClassifier\n",
        "from sklearn.ensemble import RandomForestRegressor\n",
        "from sklearn.naive_bayes import GaussianNB\n",
        "from sklearn.neighbors import KNeighborsRegressor\n",
        "from sklearn.neural_network import MLPRegressor\n",
        "from sklearn.svm import SVC\n",
        "from sklearn.tree import DecisionTreeRegressor\n",
        "\n",
        "np.random.seed(42)\n",
        "\n",
        "sns.set_theme()\n",
        "RED_WINES = '/kaggle/input/wine-quality-dataset/winequality-red.csv'\n",
        "WHITE_WINES = '/kaggle/input/wine-quality-dataset/winequality-white.csv'\n",
        "df_reds = pd.read_csv(RED_WINES, sep=';')\n",
        "df_whites = pd.read_csv(WHITE_WINES, sep=';')\n",
        "df_wines = pd.concat([ df_reds.assign(is_red=1), df_whites.assign(is_red=0)])"
      ]
    },
    {
      "cell_type": "markdown",
      "id": "504301cc",
      "metadata": {
        "papermill": {
          "duration": 0.009643,
          "end_time": "2023-11-02T14:34:14.272025",
          "exception": false,
          "start_time": "2023-11-02T14:34:14.262382",
          "status": "completed"
        },
        "tags": [],
        "id": "504301cc"
      },
      "source": [
        "<a id='rvw_prediction'></a>\n",
        "## Predicting Wine Color\n",
        "In the absense of any *a priori* intuition on the importance of the various chemical properties for determing the color of the wine, a RandomForestClassifier seems like the obvious first choice to employ for this initial classification problem. When fitting the data, we will first remove the ```quality``` feature and focus instead on simply the chemical properties."
      ]
    },
    {
      "cell_type": "code",
      "execution_count": null,
      "id": "ed65536a",
      "metadata": {
        "execution": {
          "iopub.execute_input": "2023-11-02T14:34:14.292748Z",
          "iopub.status.busy": "2023-11-02T14:34:14.292325Z",
          "iopub.status.idle": "2023-11-02T14:34:15.106160Z",
          "shell.execute_reply": "2023-11-02T14:34:15.105089Z"
        },
        "papermill": {
          "duration": 0.827324,
          "end_time": "2023-11-02T14:34:15.108819",
          "exception": false,
          "start_time": "2023-11-02T14:34:14.281495",
          "status": "completed"
        },
        "tags": [],
        "id": "ed65536a",
        "outputId": "ea49e62a-0932-44e1-cd39-0d15af0c5637"
      },
      "outputs": [
        {
          "data": {
            "text/plain": [
              "0.9956923076923077"
            ]
          },
          "execution_count": 2,
          "metadata": {},
          "output_type": "execute_result"
        }
      ],
      "source": [
        "X = df_wines.drop(columns=['quality','is_red'])\n",
        "y = df_wines.is_red\n",
        "X_train, X_test, y_train, y_test = train_test_split(X, y, random_state=42)\n",
        "\n",
        "model = RandomForestClassifier()\n",
        "model.fit( X_train, y_train)\n",
        "model.score(X_test,  y_test)"
      ]
    },
    {
      "cell_type": "markdown",
      "id": "8826f40c",
      "metadata": {
        "papermill": {
          "duration": 0.009253,
          "end_time": "2023-11-02T14:34:15.127791",
          "exception": false,
          "start_time": "2023-11-02T14:34:15.118538",
          "status": "completed"
        },
        "tags": [],
        "id": "8826f40c"
      },
      "source": [
        "<a id='rvw_feature_importance'></a>\n",
        "## Important Features for Wine Color\n",
        "This model appears to do a fantastic job at predicting the color of the wine. Let's now learn from the model which properties which chemical properties seem to drive the determination of color. Is it a subtle interplay of many properties, or do only a few seem to dominate?  As the RandomForestClassifier automatically calculates a ```feature_importance_``` when fitting the data, the answer is just waiting for us to look at it."
      ]
    },
    {
      "cell_type": "code",
      "execution_count": null,
      "id": "57dae8ee",
      "metadata": {
        "execution": {
          "iopub.execute_input": "2023-11-02T14:34:15.149287Z",
          "iopub.status.busy": "2023-11-02T14:34:15.148583Z",
          "iopub.status.idle": "2023-11-02T14:34:15.607074Z",
          "shell.execute_reply": "2023-11-02T14:34:15.605965Z"
        },
        "papermill": {
          "duration": 0.472351,
          "end_time": "2023-11-02T14:34:15.609813",
          "exception": false,
          "start_time": "2023-11-02T14:34:15.137462",
          "status": "completed"
        },
        "tags": [],
        "id": "57dae8ee",
        "outputId": "aeb1a0b5-9d30-4663-bedb-18b57ad31996"
      },
      "outputs": [
        {
          "data": {
            "image/png": "[encoded data removed]",
            "text/plain": [
              "<Figure size 640x480 with 1 Axes>"
            ]
          },
          "metadata": {},
          "output_type": "display_data"
        }
      ],
      "source": [
        "_ = pd.DataFrame({\n",
        "    'feature' : X_train.columns,\n",
        "    'weight' : model.feature_importances_\n",
        "    }).sort_values(by='weight', ascending=False).reset_index(drop=True)\n",
        "sns.barplot(x=_.weight, y=_.feature).grid('both')"
      ]
    },
    {
      "cell_type": "markdown",
      "id": "cf956a8f",
      "metadata": {
        "papermill": {
          "duration": 0.009989,
          "end_time": "2023-11-02T14:34:15.630163",
          "exception": false,
          "start_time": "2023-11-02T14:34:15.620174",
          "status": "completed"
        },
        "tags": [],
        "id": "cf956a8f"
      },
      "source": [
        "The model seems to be indicating that two, or possibly three, features seem to dominate the distinction between red and white wines:\n",
        "* total sulfur dioxide\n",
        "* chlorides\n",
        "* volatile acidity\n",
        "\n",
        "Looking at a pairwise plot for these three features yields:"
      ]
    },
    {
      "cell_type": "code",
      "execution_count": null,
      "id": "502ba80c",
      "metadata": {
        "execution": {
          "iopub.execute_input": "2023-11-02T14:34:15.652276Z",
          "iopub.status.busy": "2023-11-02T14:34:15.651883Z",
          "iopub.status.idle": "2023-11-02T14:34:17.524478Z",
          "shell.execute_reply": "2023-11-02T14:34:17.523362Z"
        },
        "papermill": {
          "duration": 1.888861,
          "end_time": "2023-11-02T14:34:17.529425",
          "exception": false,
          "start_time": "2023-11-02T14:34:15.640564",
          "status": "completed"
        },
        "tags": [],
        "id": "502ba80c",
        "outputId": "032b36bb-b64e-4aa3-ef1d-5560aa9a0619"
      },
      "outputs": [
        {
          "data": {
            "image/png": "[encoded data removed]",
            "text/plain": [
              "<Figure size 900x300 with 3 Axes>"
            ]
          },
          "metadata": {},
          "output_type": "display_data"
        }
      ],
      "source": [
        "f1 = 'total sulfur dioxide'\n",
        "f2 = 'chlorides'\n",
        "f3 = 'volatile acidity'\n",
        "fig, ax = plt.subplots( 1, 3, figsize=(9,3))\n",
        "sns.scatterplot( ax=ax[0], data=df_wines, x=f1, y=f2, hue='is_red', s=3)\n",
        "sns.scatterplot( ax=ax[1], data=df_wines, x=f1, y=f3, hue='is_red', s=3)\n",
        "sns.scatterplot( ax=ax[2], data=df_wines, x=f2, y=f3, hue='is_red', s=3)\n",
        "plt.tight_layout();"
      ]
    },
    {
      "cell_type": "markdown",
      "id": "8397581a",
      "metadata": {
        "papermill": {
          "duration": 0.014135,
          "end_time": "2023-11-02T14:34:17.560149",
          "exception": false,
          "start_time": "2023-11-02T14:34:17.546014",
          "status": "completed"
        },
        "tags": [],
        "id": "8397581a"
      },
      "source": [
        "These diagrams reveal a clear clustering for the bulk of the wines, indicating that white wines are higher in total sulfur dioxide, lower in chlorides, and lower in volatile acidity than white wines. There is, granted, an area of overlap between whites and reds, and there are some scattered outliers."
      ]
    },
    {
      "cell_type": "markdown",
      "id": "17d87f29",
      "metadata": {
        "papermill": {
          "duration": 0.011823,
          "end_time": "2023-11-02T14:34:17.584372",
          "exception": false,
          "start_time": "2023-11-02T14:34:17.572549",
          "status": "completed"
        },
        "tags": [],
        "id": "17d87f29"
      },
      "source": [
        "<a id='rvw_feature_importance_why'></a>\n",
        "## Why Are These Features Important?\n",
        "### Total Sulfur Dioxide\n",
        "Sulfur dioxide is an important additive to wines where it [acts as a preservative][1], working as both an antioxidant and an antimicrobial. It is present in wine in both a free and bound form. The free form is available to act as the preservative; however, once bound, it is no longer available for this purpose.  The total sulfur dioxide is simply the sum of the free and bound forms.\n",
        "\n",
        "The basic difference between a red and a white wine [lies in the grape skins][2]. When producing a white wine, the grape skins are removed from the pulp prior to fermentation, while for red wines they are left in.  It turns out that the grape skins contain tannin, and [tannin is a natural antimicrobial][3]. As a result, [red wines typically need less sulfur dioxide][4].\n",
        "\n",
        "### Chlorides\n",
        "Chlorides is simply a way of measuring [the salt content in a wine][5]. Salt is naturally present in grapes, though the amount can vary depending upon the [geological and climatic conditions of the vineyard][6]. It turns out, though, that the fermentation process also affects the chloride content.  The skins of the grapes contain chloride ions; leaving the skins in the pulp during the fermantation process (as is done with red wines) can [increase chloride concentration in the wine by 70%][5].\n",
        "\n",
        "### Volatile Acidity\n",
        "Volatile acidity is a [measure of the gaseous acids in a wine][7], and is often considered to be an indicator of the spoilage.  By law, red wines are allowed a higher volatile acidity than whites. Why? We do not know, nor have we found a clear explanation of the difference seen in reds and whites. Some hints we have found center around statements that\n",
        "* high volatile acidity may imply insufficient use of sulfur dioxides\n",
        "* for some wines, the aromas associated with a volatile acids are considered part of the appeal\n",
        "* [natural wines][8] may be more more succeptible to high volatile acidity.\n",
        "\n",
        "It may be that a sharper smell is more appealing on a red wine than a white. It also may be that red wines rely more on the natural antimicrobials of tannin and thus may not have sufficient sulfur dioxide to stave off the volatile acidity. This, however, is obviously just an ill-informed conjecture; we would be thrilled if someone could provide us with a legitimate explanation for tendency of red wines to have higher volatile acidity than whites.\n",
        "\n",
        "[1]:https://store.extension.iastate.edu/Product/16425-pdf\n",
        "[2]:https://corkdining.com/wine-series/white-wine-vs-red-wine-whats-the-difference/\n",
        "[3]:https://www.tannins.org/the-antimicrobial-activity-of-tannins/\n",
        "[4]:https://grape-to-glass.com/index.php/sulphur-levels-wine/\n",
        "[5]:https://www.awri.com.au/wp-content/uploads/2018/08/s1530.pdf\n",
        "[6]:https://www.oiv.int/standards/compendium-of-international-methods-of-wine-and-must-analysis/annex-d/annex-d-advices/level-of-sodium-and-chlorides-ions-in-wines\n",
        "[7]:https://www.wineenthusiast.com/basics/drinks-terms-defined/volatile-acidity-wine/\n",
        "[8]:https://vinepair.com/articles/volatile-acidity-wine/"
      ]
    },
    {
      "cell_type": "markdown",
      "id": "2f5b5985",
      "metadata": {
        "papermill": {
          "duration": 0.011528,
          "end_time": "2023-11-02T14:34:17.609885",
          "exception": false,
          "start_time": "2023-11-02T14:34:17.598357",
          "status": "completed"
        },
        "tags": [],
        "id": "2f5b5985"
      },
      "source": [
        "<a id='rvw_simplified'></a>\n",
        "## Simplifying the Model\n",
        "With the data on the red and white wines being so well clustered, it is natural to wonder how many features are actually needed to build a reliable model for discerning between red and white wines. We can explore this question by using the three most important features just indentified, and build a series of models by including those features one-by-one in order of importance."
      ]
    },
    {
      "cell_type": "code",
      "execution_count": null,
      "id": "8aed0272",
      "metadata": {
        "execution": {
          "iopub.execute_input": "2023-11-02T14:34:17.635076Z",
          "iopub.status.busy": "2023-11-02T14:34:17.634646Z",
          "iopub.status.idle": "2023-11-02T14:34:18.993212Z",
          "shell.execute_reply": "2023-11-02T14:34:18.991659Z"
        },
        "papermill": {
          "duration": 1.374133,
          "end_time": "2023-11-02T14:34:18.995814",
          "exception": false,
          "start_time": "2023-11-02T14:34:17.621681",
          "status": "completed"
        },
        "tags": [],
        "id": "8aed0272",
        "outputId": "1838b83a-5178-4f36-e436-c6dd736f7c53"
      },
      "outputs": [
        {
          "name": "stdout",
          "output_type": "stream",
          "text": [
            "Score: 0.9126153846153846 for Features: total sulfur dioxide\n",
            "Score: 0.9790769230769231 for Features: total sulfur dioxide, chlorides\n",
            "Score: 0.9864615384615385 for Features: total sulfur dioxide, chlorides, volatile acidity\n"
          ]
        }
      ],
      "source": [
        "features = []\n",
        "for feature in [f1, f2, f3]:\n",
        "    features.append(feature)\n",
        "    X = df_wines[features]\n",
        "    y = df_wines.is_red\n",
        "    X_train, X_test, y_train, y_test = train_test_split(X, y, random_state=42)\n",
        "\n",
        "    model = RandomForestClassifier()\n",
        "    model.fit( X_train, y_train)\n",
        "    score = model.score(X_test, y_test)\n",
        "\n",
        "    print( \"Score: {} for Features: {}\".format( score, \", \".join(features)))"
      ]
    },
    {
      "cell_type": "markdown",
      "id": "56a32d24",
      "metadata": {
        "papermill": {
          "duration": 0.011922,
          "end_time": "2023-11-02T14:34:19.019687",
          "exception": false,
          "start_time": "2023-11-02T14:34:19.007765",
          "status": "completed"
        },
        "tags": [],
        "id": "56a32d24"
      },
      "source": [
        "From a single feature, ```total sulfur dioxide```, one already has enough predictive power to correctly identify a wine's color 91% of the time!  Adding in a second feature, ```chlorides``` jumps the predictive power to approximately 98%."
      ]
    },
    {
      "cell_type": "markdown",
      "id": "f6f0e0d2",
      "metadata": {
        "papermill": {
          "duration": 0.011611,
          "end_time": "2023-11-02T14:34:19.043475",
          "exception": false,
          "start_time": "2023-11-02T14:34:19.031864",
          "status": "completed"
        },
        "tags": [],
        "id": "f6f0e0d2"
      },
      "source": [
        "<a id='qp'></a>\n",
        "# Quality Prediction\n",
        "We now turn to trying to employing machine learning models for predicting the quality of a wine based upon the recorded physicochemical properties. Others who have analyzed this dataset have chosen to work with the reds and whites separately rather than applying a machine learning model on the combined dataset; we will follow suit.\n",
        "\n",
        "There are a couple of reasons behind our decision to treat reds and whites separately.  First, as we saw in the previous section, there are physicochemical differences between reds and whites.  As such, a measurement which is spot on for a good red wine may, in fact, be undesirable for a white. To attain the greatest predictivity of ```quality```, it seems reasonable to separate known differences and instead focus on the comparison of likes to likes. Second, however, is the more compelling reason; human taste is involved in the determination of ```quality```. Some people prefer whites; others prefer reds. Whites are good with fish; reds are good with beef. The qualities/properties one desires in a white are different from those in a red. As the ```quality``` of a wine presumably reflects how well the wine achieves its desired properties,  it would seem as if the ```quality``` scale naturally differs between reds and whites."
      ]
    },
    {
      "cell_type": "markdown",
      "id": "492dd8f7",
      "metadata": {
        "papermill": {
          "duration": 0.011571,
          "end_time": "2023-11-02T14:34:19.067040",
          "exception": false,
          "start_time": "2023-11-02T14:34:19.055469",
          "status": "completed"
        },
        "tags": [],
        "id": "492dd8f7"
      },
      "source": [
        "<a id='qp_reg_vs_class'></a>\n",
        "## Regression vs Classification\n",
        "\n",
        "The ```quality``` parameter that we are trying to predict is an ordinal - an ordered categorical. An ordinal is a type of categorical; however, they do lie somewhat [in-between a categorical and a quantitative (continuous) variable][1] due to the ordering aspect. In fact, an ordinal can [often times be treated as a continuous variable][2], from a statistical viewpoint.\n",
        "\n",
        "This apparent ambiguity immediately raises the question of whether one should use a classification or a regression model for predicting ```quality```.  To examine this, we will run a quick experiment a RandomForest model to compare regression and classification.\n",
        "\n",
        "[1]:https://www.simplilearn.com/what-is-ordinal-data-article\n",
        "[2]:https://www.frontiersin.org/articles/10.3389/feduc.2020.589965/full"
      ]
    },
    {
      "cell_type": "code",
      "execution_count": null,
      "id": "3e64f5fc",
      "metadata": {
        "execution": {
          "iopub.execute_input": "2023-11-02T14:34:19.156303Z",
          "iopub.status.busy": "2023-11-02T14:34:19.155916Z",
          "iopub.status.idle": "2023-11-02T14:34:22.388113Z",
          "shell.execute_reply": "2023-11-02T14:34:22.386701Z"
        },
        "papermill": {
          "duration": 3.248843,
          "end_time": "2023-11-02T14:34:22.390609",
          "exception": false,
          "start_time": "2023-11-02T14:34:19.141766",
          "status": "completed"
        },
        "tags": [],
        "id": "3e64f5fc",
        "outputId": "2b8e753f-017b-483f-e2a8-4d6fc704cfe1"
      },
      "outputs": [
        {
          "name": "stdout",
          "output_type": "stream",
          "text": [
            "Classification Score:  0.6579591836734694\n",
            "Regression  Score:  0.5176262500000002\n"
          ]
        }
      ],
      "source": [
        "X = df_whites.drop(columns='quality')\n",
        "y = df_whites.quality\n",
        "X_train, X_test, y_train, y_test = train_test_split( X, y)\n",
        "\n",
        "model_1 = RandomForestClassifier()\n",
        "model_1.fit( X_train, y_train)\n",
        "\n",
        "model_2 = RandomForestRegressor()\n",
        "model_2.fit( X_train, y_train)\n",
        "\n",
        "print(\"Classification Score: \", model_1.score(X_test, y_test) )\n",
        "print(\"Regression  Score: \", model_2.score(X_test, y_test) )"
      ]
    },
    {
      "cell_type": "markdown",
      "id": "214bfb9b",
      "metadata": {
        "papermill": {
          "duration": 0.012443,
          "end_time": "2023-11-02T14:34:22.415332",
          "exception": false,
          "start_time": "2023-11-02T14:34:22.402889",
          "status": "completed"
        },
        "tags": [],
        "id": "214bfb9b"
      },
      "source": [
        "<a id='qp_issues_metric'></a>\n",
        "### Issues with the Metric\n",
        "This result seems to come solidly in factor of classification.  On closer examination, however, it appears that this conclusion may be based on an overly naive comparison. Our first criticism here is that the metric used for scoring the regression test is simply wrong. To see this, let's examine the first few predictions made by both models."
      ]
    },
    {
      "cell_type": "code",
      "execution_count": null,
      "id": "a136b02e",
      "metadata": {
        "execution": {
          "iopub.execute_input": "2023-11-02T14:34:22.442410Z",
          "iopub.status.busy": "2023-11-02T14:34:22.441623Z",
          "iopub.status.idle": "2023-11-02T14:34:22.518195Z",
          "shell.execute_reply": "2023-11-02T14:34:22.517298Z"
        },
        "papermill": {
          "duration": 0.092806,
          "end_time": "2023-11-02T14:34:22.520425",
          "exception": false,
          "start_time": "2023-11-02T14:34:22.427619",
          "status": "completed"
        },
        "tags": [],
        "id": "a136b02e",
        "outputId": "2923f758-3fdb-4a31-8d1d-edb9447d352f"
      },
      "outputs": [
        {
          "data": {
            "text/html": [
              "<div>\n",
              "<style scoped>\n",
              "    .dataframe tbody tr th:only-of-type {\n",
              "        vertical-align: middle;\n",
              "    }\n",
              "\n",
              "    .dataframe tbody tr th {\n",
              "        vertical-align: top;\n",
              "    }\n",
              "\n",
              "    .dataframe thead th {\n",
              "        text-align: right;\n",
              "    }\n",
              "</style>\n",
              "<table border=\"1\" class=\"dataframe\">\n",
              "  <thead>\n",
              "    <tr style=\"text-align: right;\">\n",
              "      <th></th>\n",
              "      <th>actual</th>\n",
              "      <th>classification</th>\n",
              "      <th>regression</th>\n",
              "    </tr>\n",
              "  </thead>\n",
              "  <tbody>\n",
              "    <tr>\n",
              "      <th>3906</th>\n",
              "      <td>7</td>\n",
              "      <td>7</td>\n",
              "      <td>7.06</td>\n",
              "    </tr>\n",
              "    <tr>\n",
              "      <th>4074</th>\n",
              "      <td>4</td>\n",
              "      <td>5</td>\n",
              "      <td>5.34</td>\n",
              "    </tr>\n",
              "    <tr>\n",
              "      <th>3536</th>\n",
              "      <td>6</td>\n",
              "      <td>6</td>\n",
              "      <td>6.04</td>\n",
              "    </tr>\n",
              "    <tr>\n",
              "      <th>751</th>\n",
              "      <td>6</td>\n",
              "      <td>6</td>\n",
              "      <td>5.96</td>\n",
              "    </tr>\n",
              "    <tr>\n",
              "      <th>4391</th>\n",
              "      <td>5</td>\n",
              "      <td>6</td>\n",
              "      <td>5.50</td>\n",
              "    </tr>\n",
              "    <tr>\n",
              "      <th>3503</th>\n",
              "      <td>7</td>\n",
              "      <td>7</td>\n",
              "      <td>6.61</td>\n",
              "    </tr>\n",
              "    <tr>\n",
              "      <th>3786</th>\n",
              "      <td>5</td>\n",
              "      <td>5</td>\n",
              "      <td>5.34</td>\n",
              "    </tr>\n",
              "    <tr>\n",
              "      <th>3164</th>\n",
              "      <td>6</td>\n",
              "      <td>6</td>\n",
              "      <td>5.98</td>\n",
              "    </tr>\n",
              "    <tr>\n",
              "      <th>2995</th>\n",
              "      <td>6</td>\n",
              "      <td>6</td>\n",
              "      <td>6.55</td>\n",
              "    </tr>\n",
              "    <tr>\n",
              "      <th>1149</th>\n",
              "      <td>5</td>\n",
              "      <td>6</td>\n",
              "      <td>5.48</td>\n",
              "    </tr>\n",
              "  </tbody>\n",
              "</table>\n",
              "</div>"
            ],
            "text/plain": [
              "      actual  classification  regression\n",
              "3906       7               7        7.06\n",
              "4074       4               5        5.34\n",
              "3536       6               6        6.04\n",
              "751        6               6        5.96\n",
              "4391       5               6        5.50\n",
              "3503       7               7        6.61\n",
              "3786       5               5        5.34\n",
              "3164       6               6        5.98\n",
              "2995       6               6        6.55\n",
              "1149       5               6        5.48"
            ]
          },
          "execution_count": 7,
          "metadata": {},
          "output_type": "execute_result"
        }
      ],
      "source": [
        "pd.DataFrame({\n",
        "    'actual' : y_test[:10],\n",
        "    'classification' : model_1.predict(X_test)[:10],\n",
        "    'regression' : model_2.predict(X_test)[:10]\n",
        "    })"
      ]
    },
    {
      "cell_type": "markdown",
      "id": "17a14c77",
      "metadata": {
        "papermill": {
          "duration": 0.012425,
          "end_time": "2023-11-02T14:34:22.546497",
          "exception": false,
          "start_time": "2023-11-02T14:34:22.534072",
          "status": "completed"
        },
        "tags": [],
        "id": "17a14c77"
      },
      "source": [
        "Given that ```quality``` is an ordinal, a regression model's prediction of, say, ```quality```=5.19 should probably be interpretted as a prediction of ```quality```=5 prior to scoring. That deviation of 0.19 has meaning in the metric employed by the scoring in the regression model; but, it is a false reality.\n",
        "\n",
        "With the limited sample above, the classification and regression models would score the same if one were to first round the regression results prior to scoring. In fact, when we apply this rounding approach to the entire set of predictions from the regression model, the results from the classification and regression approaches are virtually identical."
      ]
    },
    {
      "cell_type": "code",
      "execution_count": null,
      "id": "6824d107",
      "metadata": {
        "execution": {
          "iopub.execute_input": "2023-11-02T14:34:22.574574Z",
          "iopub.status.busy": "2023-11-02T14:34:22.574200Z",
          "iopub.status.idle": "2023-11-02T14:34:22.642110Z",
          "shell.execute_reply": "2023-11-02T14:34:22.640673Z"
        },
        "papermill": {
          "duration": 0.084751,
          "end_time": "2023-11-02T14:34:22.644839",
          "exception": false,
          "start_time": "2023-11-02T14:34:22.560088",
          "status": "completed"
        },
        "tags": [],
        "id": "6824d107",
        "outputId": "33f4fe34-f186-46c4-ff68-5018dcd0a7cd"
      },
      "outputs": [
        {
          "name": "stdout",
          "output_type": "stream",
          "text": [
            "Classification Score:  0.6579591836734694\n",
            "Regression  Score:  0.673469387755102\n"
          ]
        }
      ],
      "source": [
        "rounded_score = lambda x,y : (np.rint(x)==y).sum() / len(x)\n",
        "print(\"Classification Score: \", model_1.score(X_test, y_test) )\n",
        "print(\"Regression  Score: \", rounded_score( model_2.predict(X_test), y_test) )"
      ]
    },
    {
      "cell_type": "markdown",
      "id": "f2fb875b",
      "metadata": {
        "papermill": {
          "duration": 0.012191,
          "end_time": "2023-11-02T14:34:22.669494",
          "exception": false,
          "start_time": "2023-11-02T14:34:22.657303",
          "status": "completed"
        },
        "tags": [],
        "id": "f2fb875b"
      },
      "source": [
        "<a id='qp_issues_scoring'></a>\n",
        "### Issues with the Scoring\n",
        "Our second criticism is with the scoring process itself and what it is deemed *a successful prediction*. Our concern starts with simply wondering about the quality of the scores being reported - a measly 66%. The RandomForest method is getting this right only two out of three times - how can it be so bad?\n",
        "\n",
        "We suspect that part of the issue lies with the scoring methodolgy itself, which treats a miss as being as good as a mile.  For example, imagine a scenario where a wine critic gave the a wine as being an 8 for quality, while the RandomForesetClassifier predicted the value of 7.4 for the quality.  According to the scoring methodology, this would be deemed as a failure of the model to predict the quality. Not only that, this failure is ***deemed to be just as bad*** as if the model predicted a quality of 3 for the wine.\n",
        "\n",
        "If this was, in fact, the cause of the poor scores, it would seem as if the problem was with the scoring methodolgy rather than with the modelling, and that the proper response would be to develop a better investigate ways of improving the scoring methodlogy.\n",
        "\n",
        "In any case, a simple way to investigate this question is to introduce a slight generalization to the success criterion used in scoring. We will focus on the regression model and note that a prediction is deemed successful if the predicted ```quality``` falls within a window of 0.5 of the actual ```quality```.  the current criterion for success is to see if the predicted ```quality``` is within a window of 0.5 of the actual ```quality```.  If the scoring methdology itself is the issue, we would expect that using a slightly larger window could by manifested with a significantly better score."
      ]
    },
    {
      "cell_type": "code",
      "execution_count": null,
      "id": "66d526f6",
      "metadata": {
        "execution": {
          "iopub.execute_input": "2023-11-02T14:34:22.696407Z",
          "iopub.status.busy": "2023-11-02T14:34:22.695754Z",
          "iopub.status.idle": "2023-11-02T14:34:23.226886Z",
          "shell.execute_reply": "2023-11-02T14:34:23.225653Z"
        },
        "papermill": {
          "duration": 0.54759,
          "end_time": "2023-11-02T14:34:23.229466",
          "exception": false,
          "start_time": "2023-11-02T14:34:22.681876",
          "status": "completed"
        },
        "tags": [],
        "id": "66d526f6",
        "outputId": "4054578f-1f3c-4096-8acf-48b4ae5149ac"
      },
      "outputs": [
        {
          "data": {
            "image/png": "[encoded data removed]",
            "text/plain": [
              "<Figure size 640x480 with 1 Axes>"
            ]
          },
          "metadata": {},
          "output_type": "display_data"
        }
      ],
      "source": [
        "def score_within_window( actual, predicted, delta):\n",
        "    within = lambda x : abs(x) <= delta\n",
        "    return (predicted - actual).apply( within ).sum() / len(predicted)\n",
        "\n",
        "\n",
        "pred = model_2.predict( X_test )\n",
        "incr = 0.01\n",
        "windows = np.arange(0.5, 1.5 + incr, incr)\n",
        "_ = pd.DataFrame({\n",
        "    'window' : windows,\n",
        "    'score' : [ score_within_window( y_test, pred, window) for window in windows]\n",
        "    })\n",
        "sns.lineplot( data=_, x='window', y='score')\n",
        "plt.ylim(0.65,1);"
      ]
    },
    {
      "cell_type": "markdown",
      "id": "65345775",
      "metadata": {
        "papermill": {
          "duration": 0.013748,
          "end_time": "2023-11-02T14:34:23.258695",
          "exception": false,
          "start_time": "2023-11-02T14:34:23.244947",
          "status": "completed"
        },
        "tags": [],
        "id": "65345775"
      },
      "source": [
        "This seems to confirm our suspicion. With this in hand, we will proceed by investigating ***regression models*** with a ***suitably chosen window size*** for scoring.\n",
        "\n",
        "The obvious next question would be, '*What qualifies as a suitably chosen window size?*'  While the selection is somewhat arbitrary, we feel that using a ***window of 1*** is reasonable. That this basically means is that a predicted ```quantity``` that lies somewhere between 5 and 6, say, would be deemed a success only if the actual ```quantity``` was either 5 or 6.\n",
        "\n",
        "Note that with this approach, the *RandomForestClassifier* would score 0.9 - meaning that it was accurate 90% of the time. And that seems much more reasonable."
      ]
    },
    {
      "cell_type": "markdown",
      "id": "c5683f6c",
      "metadata": {
        "papermill": {
          "duration": 0.012664,
          "end_time": "2023-11-02T14:34:23.284441",
          "exception": false,
          "start_time": "2023-11-02T14:34:23.271777",
          "status": "completed"
        },
        "tags": [],
        "id": "c5683f6c"
      },
      "source": [
        "<a id=\"qp_prep\"></a>\n",
        "## Dataset Preparation\n",
        "\n",
        "The datasets for the red and white wines consist of a set of continuous features in addition to ```quality``` target. This makes much of the initial preparation ahead of applying a machine learning model trivial - simply scale the continuous features, using a [standardization][1] method. We do so in the following, where we have taken the extra step of converting the scaled data from the [numpy ndarray][2] returned by the [sklearn scaling utilities][3] to a [pandas dataframe][4], simply because we find ndarrays clumsy to work with and it is convenient to retain the column headings at this stage of the analysis. We would like to point out that we have used the standard practice scaling was based soley on the *training* data in order to prevent the leakage of *test* data into the fitting of a model.\n",
        "\n",
        "[1]:https://www.shiksha.com/online-courses/articles/normalization-and-standardization/\n",
        "[2]:https://numpy.org/doc/stable/reference/generated/numpy.ndarray.html\n",
        "[3]:https://scikit-learn.org/stable/modules/generated/sklearn.preprocessing.StandardScaler.html\n",
        "[4]:https://pandas.pydata.org/docs/reference/api/pandas.DataFrame.html\n",
        "[5]:https://stats.oarc.ucla.edu/other/mult-pkg/whatstat/what-is-the-difference-between-categorical-ordinal-and-interval-variables/"
      ]
    },
    {
      "cell_type": "code",
      "execution_count": null,
      "id": "25d4c785",
      "metadata": {
        "execution": {
          "iopub.execute_input": "2023-11-02T14:34:23.314529Z",
          "iopub.status.busy": "2023-11-02T14:34:23.313321Z",
          "iopub.status.idle": "2023-11-02T14:34:23.339391Z",
          "shell.execute_reply": "2023-11-02T14:34:23.338264Z"
        },
        "papermill": {
          "duration": 0.043845,
          "end_time": "2023-11-02T14:34:23.342165",
          "exception": false,
          "start_time": "2023-11-02T14:34:23.298320",
          "status": "completed"
        },
        "tags": [],
        "id": "25d4c785"
      },
      "outputs": [],
      "source": [
        "class WineDataSet():\n",
        "    def __init__( self, df, random_state=42, scaler=None):\n",
        "        X = df.drop( columns='quality')\n",
        "        y = df.quality\n",
        "        X_train, X_test, y_train, y_test = train_test_split( X, y, random_state=random_state)\n",
        "\n",
        "        if scaler:\n",
        "            scaler.fit(X_train)\n",
        "            X_train = pd.DataFrame( scaler.transform(X_train), columns=X.columns)\n",
        "            X_test = pd.DataFrame( scaler.transform(X_test), columns=X.columns)\n",
        "\n",
        "        self.df = df\n",
        "        self.X_raw = X\n",
        "        self.y_raw = y\n",
        "        self.X_train = X_train\n",
        "        self.X_test = X_test\n",
        "        self.y_train = y_train\n",
        "        self.y_test = y_test\n",
        "\n",
        "w = WineDataSet( df_whites, scaler=StandardScaler() )\n",
        "r = WineDataSet( df_reds, scaler=StandardScaler() )"
      ]
    },
    {
      "cell_type": "markdown",
      "id": "6ee98abc",
      "metadata": {
        "papermill": {
          "duration": 0.012775,
          "end_time": "2023-11-02T14:34:23.368177",
          "exception": false,
          "start_time": "2023-11-02T14:34:23.355402",
          "status": "completed"
        },
        "tags": [],
        "id": "6ee98abc"
      },
      "source": [
        "<a id='qp_dof'></a>\n",
        "## Effective Degrees of Freedom\n",
        "Before applying a machine learning model, we would like to investigate whether the recorded physicochemical features are truly independent. Do any of the features appear to be simply a combination of others?  To be slightly more precise (since feature engineering often involves synthesizing new features that are non-linear functions of existing features), do the features suffer from [multicollinearity][1]?\n",
        "\n",
        "A standard approach for uncovering multicollinearity is to employ a *[variance inflation factor (VIF)][2]* analysis. A nice description of VIF has been presented by kaggler [Carl McBride Ellis][3].  The process is quite straightforward\n",
        "* run the the various features, calculating the variance_inflation_factor with the aid of statsmodels\n",
        "* look for features whose VIF seems unusually large (often times defined as being greater than 5)\n",
        "* consider removing said features prior to fitting with a model\n",
        "\n",
        "NOTE: the code below takes an additional step of using the statsmodels ```add_constant``` prior to invoking ```variance_inflation_factor```, [on the advice of the author][4] of said function.  While this step is not necessary in our particular application (as our scaling involves standardization, thus centering the data at zero rather than leaving it at an offset), including this step seemed like good form.\n",
        "\n",
        "[1]:https://en.wikipedia.org/wiki/Multicollinearity\n",
        "[2]:https://www.statsmodels.org/stable/generated/statsmodels.stats.outliers_influence.variance_inflation_factor.html\n",
        "[3]:https://www.kaggle.com/code/carlmcbrideellis/variance-inflation-factor-vif-and-explainability\n",
        "[4]:https://stackoverflow.com/questions/42658379/variance-inflation-factor-in-python"
      ]
    },
    {
      "cell_type": "code",
      "execution_count": null,
      "id": "9cc3de57",
      "metadata": {
        "execution": {
          "iopub.execute_input": "2023-11-02T14:34:23.396673Z",
          "iopub.status.busy": "2023-11-02T14:34:23.396035Z",
          "iopub.status.idle": "2023-11-02T14:34:23.661990Z",
          "shell.execute_reply": "2023-11-02T14:34:23.660668Z"
        },
        "papermill": {
          "duration": 0.284242,
          "end_time": "2023-11-02T14:34:23.665653",
          "exception": false,
          "start_time": "2023-11-02T14:34:23.381411",
          "status": "completed"
        },
        "tags": [],
        "id": "9cc3de57",
        "outputId": "2236cbd5-07c8-4d91-fe00-8ecfe7c0425d"
      },
      "outputs": [
        {
          "data": {
            "text/html": [
              "<div>\n",
              "<style scoped>\n",
              "    .dataframe tbody tr th:only-of-type {\n",
              "        vertical-align: middle;\n",
              "    }\n",
              "\n",
              "    .dataframe tbody tr th {\n",
              "        vertical-align: top;\n",
              "    }\n",
              "\n",
              "    .dataframe thead th {\n",
              "        text-align: right;\n",
              "    }\n",
              "</style>\n",
              "<table border=\"1\" class=\"dataframe\">\n",
              "  <thead>\n",
              "    <tr style=\"text-align: right;\">\n",
              "      <th></th>\n",
              "      <th>features</th>\n",
              "      <th>whites</th>\n",
              "      <th>reds</th>\n",
              "    </tr>\n",
              "  </thead>\n",
              "  <tbody>\n",
              "    <tr>\n",
              "      <th>0</th>\n",
              "      <td>fixed acidity</td>\n",
              "      <td>2.645569</td>\n",
              "      <td>7.255800</td>\n",
              "    </tr>\n",
              "    <tr>\n",
              "      <th>1</th>\n",
              "      <td>volatile acidity</td>\n",
              "      <td>1.135478</td>\n",
              "      <td>1.803109</td>\n",
              "    </tr>\n",
              "    <tr>\n",
              "      <th>2</th>\n",
              "      <td>citric acid</td>\n",
              "      <td>1.169698</td>\n",
              "      <td>3.163694</td>\n",
              "    </tr>\n",
              "    <tr>\n",
              "      <th>3</th>\n",
              "      <td>residual sugar</td>\n",
              "      <td>12.198058</td>\n",
              "      <td>1.712743</td>\n",
              "    </tr>\n",
              "    <tr>\n",
              "      <th>4</th>\n",
              "      <td>chlorides</td>\n",
              "      <td>1.225773</td>\n",
              "      <td>1.509046</td>\n",
              "    </tr>\n",
              "    <tr>\n",
              "      <th>5</th>\n",
              "      <td>free sulfur dioxide</td>\n",
              "      <td>1.781568</td>\n",
              "      <td>1.967686</td>\n",
              "    </tr>\n",
              "    <tr>\n",
              "      <th>6</th>\n",
              "      <td>total sulfur dioxide</td>\n",
              "      <td>2.216279</td>\n",
              "      <td>2.198929</td>\n",
              "    </tr>\n",
              "    <tr>\n",
              "      <th>7</th>\n",
              "      <td>density</td>\n",
              "      <td>26.269737</td>\n",
              "      <td>5.890908</td>\n",
              "    </tr>\n",
              "    <tr>\n",
              "      <th>8</th>\n",
              "      <td>pH</td>\n",
              "      <td>2.143359</td>\n",
              "      <td>3.242698</td>\n",
              "    </tr>\n",
              "    <tr>\n",
              "      <th>9</th>\n",
              "      <td>sulphates</td>\n",
              "      <td>1.138172</td>\n",
              "      <td>1.444976</td>\n",
              "    </tr>\n",
              "    <tr>\n",
              "      <th>10</th>\n",
              "      <td>alcohol</td>\n",
              "      <td>7.038872</td>\n",
              "      <td>2.935373</td>\n",
              "    </tr>\n",
              "  </tbody>\n",
              "</table>\n",
              "</div>"
            ],
            "text/plain": [
              "                features     whites      reds\n",
              "0          fixed acidity   2.645569  7.255800\n",
              "1       volatile acidity   1.135478  1.803109\n",
              "2            citric acid   1.169698  3.163694\n",
              "3         residual sugar  12.198058  1.712743\n",
              "4              chlorides   1.225773  1.509046\n",
              "5    free sulfur dioxide   1.781568  1.967686\n",
              "6   total sulfur dioxide   2.216279  2.198929\n",
              "7                density  26.269737  5.890908\n",
              "8                     pH   2.143359  3.242698\n",
              "9              sulphates   1.138172  1.444976\n",
              "10               alcohol   7.038872  2.935373"
            ]
          },
          "execution_count": 11,
          "metadata": {},
          "output_type": "execute_result"
        }
      ],
      "source": [
        "from statsmodels.stats.outliers_influence import variance_inflation_factor\n",
        "from statsmodels.tools.tools import add_constant\n",
        "\n",
        "def calc_vif( X ):\n",
        "    vif = pd.DataFrame()\n",
        "    X = add_constant(X)\n",
        "    vif['features'] = X.columns\n",
        "    vif[\"VIF\"] = [variance_inflation_factor(X.values, i) for i in range(len(X.columns))]\n",
        "    return vif.query( 'features != \"const\"')\n",
        "\n",
        "pd.merge(\n",
        "    calc_vif(w.X_train).rename(columns={'VIF' : 'whites'}),\n",
        "    calc_vif(r.X_train).rename(columns={'VIF' : 'reds'}),\n",
        "    on='features',\n",
        "    how='outer'\n",
        "    )"
      ]
    },
    {
      "cell_type": "markdown",
      "id": "311cb538",
      "metadata": {
        "papermill": {
          "duration": 0.021648,
          "end_time": "2023-11-02T14:34:23.715086",
          "exception": false,
          "start_time": "2023-11-02T14:34:23.693438",
          "status": "completed"
        },
        "tags": [],
        "id": "311cb538"
      },
      "source": [
        "This is interesting. There is a signficant difference between the whites and the reds.  With the whites, ```density``` has an extraordinarily large VIF, whereas for the reds the VIF peaks with ```fixed acidity```.  Rerunning the calculation with those those features removed from their respective dataset yields a much more well-behaved result."
      ]
    },
    {
      "cell_type": "code",
      "execution_count": null,
      "id": "cc1f60d8",
      "metadata": {
        "execution": {
          "iopub.execute_input": "2023-11-02T14:34:23.758565Z",
          "iopub.status.busy": "2023-11-02T14:34:23.757551Z",
          "iopub.status.idle": "2023-11-02T14:34:23.866396Z",
          "shell.execute_reply": "2023-11-02T14:34:23.864927Z"
        },
        "papermill": {
          "duration": 0.133541,
          "end_time": "2023-11-02T14:34:23.869894",
          "exception": false,
          "start_time": "2023-11-02T14:34:23.736353",
          "status": "completed"
        },
        "tags": [],
        "id": "cc1f60d8",
        "outputId": "c1bc8606-5fa0-4808-89d0-1e9b0c0df7b8"
      },
      "outputs": [
        {
          "data": {
            "text/html": [
              "<div>\n",
              "<style scoped>\n",
              "    .dataframe tbody tr th:only-of-type {\n",
              "        vertical-align: middle;\n",
              "    }\n",
              "\n",
              "    .dataframe tbody tr th {\n",
              "        vertical-align: top;\n",
              "    }\n",
              "\n",
              "    .dataframe thead th {\n",
              "        text-align: right;\n",
              "    }\n",
              "</style>\n",
              "<table border=\"1\" class=\"dataframe\">\n",
              "  <thead>\n",
              "    <tr style=\"text-align: right;\">\n",
              "      <th></th>\n",
              "      <th>features</th>\n",
              "      <th>whites</th>\n",
              "      <th>reds</th>\n",
              "    </tr>\n",
              "  </thead>\n",
              "  <tbody>\n",
              "    <tr>\n",
              "      <th>0</th>\n",
              "      <td>fixed acidity</td>\n",
              "      <td>1.369300</td>\n",
              "      <td>NaN</td>\n",
              "    </tr>\n",
              "    <tr>\n",
              "      <th>1</th>\n",
              "      <td>volatile acidity</td>\n",
              "      <td>1.117762</td>\n",
              "      <td>1.795139</td>\n",
              "    </tr>\n",
              "    <tr>\n",
              "      <th>2</th>\n",
              "      <td>citric acid</td>\n",
              "      <td>1.164753</td>\n",
              "      <td>2.799778</td>\n",
              "    </tr>\n",
              "    <tr>\n",
              "      <th>3</th>\n",
              "      <td>residual sugar</td>\n",
              "      <td>1.437538</td>\n",
              "      <td>1.365528</td>\n",
              "    </tr>\n",
              "    <tr>\n",
              "      <th>4</th>\n",
              "      <td>chlorides</td>\n",
              "      <td>1.193414</td>\n",
              "      <td>1.432894</td>\n",
              "    </tr>\n",
              "    <tr>\n",
              "      <th>5</th>\n",
              "      <td>free sulfur dioxide</td>\n",
              "      <td>1.742201</td>\n",
              "      <td>1.940484</td>\n",
              "    </tr>\n",
              "    <tr>\n",
              "      <th>6</th>\n",
              "      <td>total sulfur dioxide</td>\n",
              "      <td>2.144442</td>\n",
              "      <td>2.079482</td>\n",
              "    </tr>\n",
              "    <tr>\n",
              "      <th>7</th>\n",
              "      <td>pH</td>\n",
              "      <td>1.334290</td>\n",
              "      <td>1.601275</td>\n",
              "    </tr>\n",
              "    <tr>\n",
              "      <th>8</th>\n",
              "      <td>sulphates</td>\n",
              "      <td>1.055724</td>\n",
              "      <td>1.402499</td>\n",
              "    </tr>\n",
              "    <tr>\n",
              "      <th>9</th>\n",
              "      <td>alcohol</td>\n",
              "      <td>1.644730</td>\n",
              "      <td>2.086734</td>\n",
              "    </tr>\n",
              "    <tr>\n",
              "      <th>10</th>\n",
              "      <td>density</td>\n",
              "      <td>NaN</td>\n",
              "      <td>2.326833</td>\n",
              "    </tr>\n",
              "  </tbody>\n",
              "</table>\n",
              "</div>"
            ],
            "text/plain": [
              "                features    whites      reds\n",
              "0          fixed acidity  1.369300       NaN\n",
              "1       volatile acidity  1.117762  1.795139\n",
              "2            citric acid  1.164753  2.799778\n",
              "3         residual sugar  1.437538  1.365528\n",
              "4              chlorides  1.193414  1.432894\n",
              "5    free sulfur dioxide  1.742201  1.940484\n",
              "6   total sulfur dioxide  2.144442  2.079482\n",
              "7                     pH  1.334290  1.601275\n",
              "8              sulphates  1.055724  1.402499\n",
              "9                alcohol  1.644730  2.086734\n",
              "10               density       NaN  2.326833"
            ]
          },
          "execution_count": 12,
          "metadata": {},
          "output_type": "execute_result"
        }
      ],
      "source": [
        "pd.merge(\n",
        "    calc_vif(w.X_train.drop(columns='density')).rename(columns={'VIF' : 'whites'}),\n",
        "    calc_vif(r.X_train.drop(columns='fixed acidity')).rename(columns={'VIF' : 'reds'}),\n",
        "    on='features',\n",
        "    how='outer'\n",
        "    )"
      ]
    },
    {
      "cell_type": "markdown",
      "id": "05af3376",
      "metadata": {
        "papermill": {
          "duration": 0.045304,
          "end_time": "2023-11-02T14:34:23.951700",
          "exception": false,
          "start_time": "2023-11-02T14:34:23.906396",
          "status": "completed"
        },
        "tags": [],
        "id": "05af3376"
      },
      "source": [
        "<a id='qp_models_p1'></a>\n",
        "## Models Phase One - Algorithm Selection\n",
        "\n",
        "Next, we need to select which machine learning algorithm to employ. As this is a fairly small dataset, we will start with a brute force approach of simply running through a set of algorithms to see which seems to do the best \"out-of-the-box\" (i.e., untuned).\n",
        "\n",
        "*Note: despite what we learned in the previous section, we do not yet want to remove any features. Our basic thought here is that while it makes sense avoid multicolinearity for linear models, it is not yet clear that we will settle on a linear model.*"
      ]
    },
    {
      "cell_type": "code",
      "execution_count": null,
      "id": "58a80a8c",
      "metadata": {
        "execution": {
          "iopub.execute_input": "2023-11-02T14:34:23.981251Z",
          "iopub.status.busy": "2023-11-02T14:34:23.980462Z",
          "iopub.status.idle": "2023-11-02T14:34:30.050953Z",
          "shell.execute_reply": "2023-11-02T14:34:30.049854Z"
        },
        "papermill": {
          "duration": 6.088016,
          "end_time": "2023-11-02T14:34:30.053373",
          "exception": false,
          "start_time": "2023-11-02T14:34:23.965357",
          "status": "completed"
        },
        "tags": [],
        "id": "58a80a8c",
        "outputId": "e3be3404-e221-49ce-bf23-bda2c96a90ba"
      },
      "outputs": [
        {
          "data": {
            "image/png": "[encoded data removed]",
            "text/plain": [
              "<Figure size 640x480 with 1 Axes>"
            ]
          },
          "metadata": {},
          "output_type": "display_data"
        }
      ],
      "source": [
        "WINDOW_SIZE = 1\n",
        "def apply_algo( name, model, dataset):\n",
        "    model.fit( dataset.X_train, dataset.y_train)\n",
        "    predict = model.predict( dataset.X_test )\n",
        "    score = score_within_window( predict, dataset.y_test, WINDOW_SIZE)\n",
        "    return { 'name':name, 'score':score}\n",
        "\n",
        "algos = [\n",
        "    ( \"Nearest Neighbors\", KNeighborsRegressor() ),\n",
        "    ( \"Linear SVM\", SVC(kernel=\"linear\")),\n",
        "    ( \"RBF SVM\", SVC() ),\n",
        "    ( \"Decision Tree\", DecisionTreeRegressor(max_depth=5) ),\n",
        "    ( \"Random Forest\", RandomForestRegressor() ),\n",
        "    ( \"AdaBoost\",AdaBoostRegressor() ),\n",
        "    ( \"Naive Bayes\",GaussianNB() )\n",
        "    ]\n",
        "\n",
        "whites = [ apply_algo( name, model, w) for name, model in algos]\n",
        "reds = [ apply_algo( name, model, r) for name, model in algos]\n",
        "\n",
        "_ = pd.concat([\n",
        "        pd.DataFrame( whites ).assign(color='white'),\n",
        "        pd.DataFrame( reds ).assign(color='red'),\n",
        "        ])\n",
        "sns.barplot( data=_, x='name', y='score', hue='color')\n",
        "plt.xticks(rotation=90)\n",
        "plt.ylim(0.8,1.0);"
      ]
    },
    {
      "cell_type": "markdown",
      "id": "62974f52",
      "metadata": {
        "papermill": {
          "duration": 0.0136,
          "end_time": "2023-11-02T14:34:30.080846",
          "exception": false,
          "start_time": "2023-11-02T14:34:30.067246",
          "status": "completed"
        },
        "tags": [],
        "id": "62974f52"
      },
      "source": [
        "All of the models appear to be doing quite at predicting the quality of the wine, with the *Support Vector Machine* models being the clear winners.  In particular, the use of the *Radial Basis Function (RBF)* kernel yields outstanding results.\n",
        "\n",
        "For some reason, all of the models seem to do slightly better are predicting the quality of the red wines. We found this odd, as the whites dataset is 3 times larger than that of the reds. One normally might expect that training with a larger dataset would be statistically more significant, and thus may do a better job with predictions. It is certainly possible, however, that there is a larger natural variation amongst white wines than there is with reds, and this may be what the above results are hinting at."
      ]
    },
    {
      "cell_type": "code",
      "execution_count": null,
      "id": "49d1fcff",
      "metadata": {
        "execution": {
          "iopub.execute_input": "2023-11-02T14:34:30.110533Z",
          "iopub.status.busy": "2023-11-02T14:34:30.109764Z",
          "iopub.status.idle": "2023-11-02T14:34:31.070822Z",
          "shell.execute_reply": "2023-11-02T14:34:31.069530Z"
        },
        "papermill": {
          "duration": 0.979049,
          "end_time": "2023-11-02T14:34:31.073689",
          "exception": false,
          "start_time": "2023-11-02T14:34:30.094640",
          "status": "completed"
        },
        "tags": [],
        "id": "49d1fcff",
        "outputId": "d4c7f68f-f354-4f81-d973-cf0885c9070e"
      },
      "outputs": [
        {
          "data": {
            "text/plain": [
              "0.9330612244897959"
            ]
          },
          "execution_count": 14,
          "metadata": {},
          "output_type": "execute_result"
        }
      ],
      "source": [
        "useless = ['fixed acidity', 'citric acid', 'chlorides', 'free sulfur dioxide', 'pH', 'sulphates', 'density']\n",
        "model = SVC()\n",
        "model.fit( w.X_train.drop(columns=useless), w.y_train)\n",
        "pred = model.predict( X_test.drop(columns=useless))\n",
        "score_within_window( pred, w.y_test, WINDOW_SIZE)"
      ]
    },
    {
      "cell_type": "markdown",
      "id": "85933679",
      "metadata": {
        "papermill": {
          "duration": 0.013837,
          "end_time": "2023-11-02T14:34:31.101753",
          "exception": false,
          "start_time": "2023-11-02T14:34:31.087916",
          "status": "completed"
        },
        "tags": [],
        "id": "85933679"
      },
      "source": [
        "<a id='qp_models_p2'></a>\n",
        "## Models Phase Two - Feature Importance\n",
        "We will now focus on the *Support Vector Machine* with the RBF kernel as its predictions seem to be the most accurate. The next natural set of questions lie around **feature importance**. Which features seem to be the most important for model? Does the answer for whites differ from those for reds? Furthermore, are there any features that appear to provide little value - i.e., are there opportunities for a reduction of dimensionality?\n",
        "\n",
        "One common approach to these questions is to employ [permutation importance][1]. This is a clever technique in which one sees the impact on a score by randomly shuffling the values of a feature. If the feature is important, the shuffling will cause the predictive power of the model to degrade; if the feature is irrelevant, the shuffling will have little impact on the score. Dan Becker provided a nice explanation of permuation importance in his course [Machine Learning Explanability][2].\n",
        "\n",
        "[1]:https://scikit-learn.org/stable/modules/generated/sklearn.inspection.permutation_importance.html\n",
        "[2]:https://www.kaggle.com/learn/machine-learning-explainability"
      ]
    },
    {
      "cell_type": "code",
      "execution_count": null,
      "id": "6a15a50c",
      "metadata": {
        "execution": {
          "iopub.execute_input": "2023-11-02T14:34:31.132986Z",
          "iopub.status.busy": "2023-11-02T14:34:31.132174Z",
          "iopub.status.idle": "2023-11-02T14:34:31.139588Z",
          "shell.execute_reply": "2023-11-02T14:34:31.138699Z"
        },
        "papermill": {
          "duration": 0.025999,
          "end_time": "2023-11-02T14:34:31.141963",
          "exception": false,
          "start_time": "2023-11-02T14:34:31.115964",
          "status": "completed"
        },
        "tags": [],
        "id": "6a15a50c"
      },
      "outputs": [],
      "source": [
        "def scorer( model, X, y):\n",
        "    return score_within_window( model.predict(X), y, WINDOW_SIZE)\n",
        "\n",
        "def display_feature_importance( df, model):\n",
        "    model.fit( df.X_train, df.y_train)\n",
        "    imp = permutation_importance( model, w.X_test, w.y_test, scoring = scorer)\n",
        "\n",
        "    features = df.X_test.columns\n",
        "    mean = imp['importances_mean']\n",
        "    stdev = imp['importances_std']\n",
        "    sns.barplot( x = mean, y=features)\n",
        "    plt.errorbar(  x = mean, y=features, xerr = stdev, fmt='None', c= 'black', capsize = 2)"
      ]
    },
    {
      "cell_type": "markdown",
      "id": "31ed5cc3",
      "metadata": {
        "papermill": {
          "duration": 0.014122,
          "end_time": "2023-11-02T14:34:31.170868",
          "exception": false,
          "start_time": "2023-11-02T14:34:31.156746",
          "status": "completed"
        },
        "tags": [],
        "id": "31ed5cc3"
      },
      "source": [
        "<a id=\"qp_dr_whites\"></a>\n",
        "### Dimensionality Reduction - Whites\n",
        "Let's first look at the white wines and see which features appear to have permutation importance."
      ]
    },
    {
      "cell_type": "code",
      "execution_count": null,
      "id": "d5789a81",
      "metadata": {
        "execution": {
          "iopub.execute_input": "2023-11-02T14:34:31.201268Z",
          "iopub.status.busy": "2023-11-02T14:34:31.200871Z",
          "iopub.status.idle": "2023-11-02T14:34:47.257385Z",
          "shell.execute_reply": "2023-11-02T14:34:47.256325Z"
        },
        "papermill": {
          "duration": 16.074544,
          "end_time": "2023-11-02T14:34:47.259832",
          "exception": false,
          "start_time": "2023-11-02T14:34:31.185288",
          "status": "completed"
        },
        "tags": [],
        "id": "d5789a81",
        "outputId": "bc20afd7-4877-40d2-fc8a-15feddeae9d3"
      },
      "outputs": [
        {
          "data": {
            "image/png": "[encoded data removed]",
            "text/plain": [
              "<Figure size 640x480 with 1 Axes>"
            ]
          },
          "metadata": {},
          "output_type": "display_data"
        }
      ],
      "source": [
        "display_feature_importance( w, SVC() )"
      ]
    },
    {
      "cell_type": "markdown",
      "id": "fde60b30",
      "metadata": {
        "papermill": {
          "duration": 0.014369,
          "end_time": "2023-11-02T14:34:47.289088",
          "exception": false,
          "start_time": "2023-11-02T14:34:47.274719",
          "status": "completed"
        },
        "tags": [],
        "id": "fde60b30"
      },
      "source": [
        "From this graph, it appears that\n",
        "* two features, ```alcohol``` and ```volatile acidity```, strongly influence the score\n",
        "* one feature, ```free sulfur dioxide```, has a moderate impact\n",
        "* three features, ```fixed acidity```, ```total sulfur dioxide```, and ```sulphates``` may be irrelevant (error bars crossed 0)\n",
        "* the remaining features have small impact\n",
        "\n",
        "NOTE that the mean for ```fixed acidity``` was negative. Dan Becker's article specifically discussed this possibility, indicating that the 'noise' introduced by the shuffling appeared to make the model *more* predictive - but that this basically attested to the irrelevancy of the feature.\n",
        "\n",
        "This result offers hope for dimensionality reduction. At a bare minimum, we should try removing the three possibly irrelevant feature and see how the reduced model fares."
      ]
    },
    {
      "cell_type": "code",
      "execution_count": null,
      "id": "b5b764df",
      "metadata": {
        "execution": {
          "iopub.execute_input": "2023-11-02T14:34:47.320257Z",
          "iopub.status.busy": "2023-11-02T14:34:47.319836Z",
          "iopub.status.idle": "2023-11-02T14:34:48.277844Z",
          "shell.execute_reply": "2023-11-02T14:34:48.276781Z"
        },
        "papermill": {
          "duration": 0.976981,
          "end_time": "2023-11-02T14:34:48.280749",
          "exception": false,
          "start_time": "2023-11-02T14:34:47.303768",
          "status": "completed"
        },
        "tags": [],
        "id": "b5b764df",
        "outputId": "4f467495-f5d6-4360-b9d8-cdf50a074f5f"
      },
      "outputs": [
        {
          "data": {
            "text/plain": [
              "0.9567346938775511"
            ]
          },
          "execution_count": 17,
          "metadata": {},
          "output_type": "execute_result"
        }
      ],
      "source": [
        "features = w.X_test.columns.drop(['fixed acidity','total sulfur dioxide','sulphates'])\n",
        "model = SVC()\n",
        "model.fit(w.X_train[features], w.y_train)\n",
        "pred = model.predict( w.X_test[features] )\n",
        "score_within_window( pred, w.y_test, WINDOW_SIZE)"
      ]
    },
    {
      "cell_type": "markdown",
      "id": "b8205ef7",
      "metadata": {
        "papermill": {
          "duration": 0.014715,
          "end_time": "2023-11-02T14:34:48.310621",
          "exception": false,
          "start_time": "2023-11-02T14:34:48.295906",
          "status": "completed"
        },
        "tags": [],
        "id": "b8205ef7"
      },
      "source": [
        "That's fantastic! The score is virtually unchanged despite the removal of three features!\n",
        "\n",
        "Let's push this a bit further and remove every feature that appeared to have little to no impact (from the permutation_importance analysis), leaving us with simply three features."
      ]
    },
    {
      "cell_type": "code",
      "execution_count": null,
      "id": "fc52614d",
      "metadata": {
        "execution": {
          "iopub.execute_input": "2023-11-02T14:34:48.342759Z",
          "iopub.status.busy": "2023-11-02T14:34:48.342004Z",
          "iopub.status.idle": "2023-11-02T14:34:49.241938Z",
          "shell.execute_reply": "2023-11-02T14:34:49.240856Z"
        },
        "papermill": {
          "duration": 0.918753,
          "end_time": "2023-11-02T14:34:49.244297",
          "exception": false,
          "start_time": "2023-11-02T14:34:48.325544",
          "status": "completed"
        },
        "tags": [],
        "id": "fc52614d",
        "outputId": "aa380e94-77bd-4583-a71e-5d1e25cc9d86"
      },
      "outputs": [
        {
          "data": {
            "text/plain": [
              "0.9493877551020408"
            ]
          },
          "execution_count": 18,
          "metadata": {},
          "output_type": "execute_result"
        }
      ],
      "source": [
        "features = ['volatile acidity', 'free sulfur dioxide', 'alcohol']\n",
        "model.fit(w.X_train[features], w.y_train)\n",
        "pred = model.predict( w.X_test[features] )\n",
        "score_within_window( pred, w.y_test, WINDOW_SIZE)"
      ]
    },
    {
      "cell_type": "markdown",
      "id": "e6bdd9cc",
      "metadata": {
        "papermill": {
          "duration": 0.015271,
          "end_time": "2023-11-02T14:34:49.274449",
          "exception": false,
          "start_time": "2023-11-02T14:34:49.259178",
          "status": "completed"
        },
        "tags": [],
        "id": "e6bdd9cc"
      },
      "source": [
        "Honestly, we found this to be a stunning result.  Limiting the features to just the three most important did come with a cost of a ***minor*** degradation of the score. However, the score that remained was still extremely good."
      ]
    },
    {
      "cell_type": "markdown",
      "id": "855214ed",
      "metadata": {
        "papermill": {
          "duration": 0.01461,
          "end_time": "2023-11-02T14:34:49.304531",
          "exception": false,
          "start_time": "2023-11-02T14:34:49.289921",
          "status": "completed"
        },
        "tags": [],
        "id": "855214ed"
      },
      "source": [
        "<a id=\"qp_dr_reds\"></a>\n",
        "### Dimensionality Reduction - Reds\n",
        "Next, perform a similar analysis on the red wines."
      ]
    },
    {
      "cell_type": "code",
      "execution_count": null,
      "id": "b8f0e7f3",
      "metadata": {
        "execution": {
          "iopub.execute_input": "2023-11-02T14:34:49.335783Z",
          "iopub.status.busy": "2023-11-02T14:34:49.335360Z",
          "iopub.status.idle": "2023-11-02T14:34:54.389328Z",
          "shell.execute_reply": "2023-11-02T14:34:54.388199Z"
        },
        "papermill": {
          "duration": 5.072536,
          "end_time": "2023-11-02T14:34:54.391938",
          "exception": false,
          "start_time": "2023-11-02T14:34:49.319402",
          "status": "completed"
        },
        "tags": [],
        "id": "b8f0e7f3",
        "outputId": "597240f7-ef27-4cea-9168-388fc42900b8"
      },
      "outputs": [
        {
          "data": {
            "image/png": "[encoded data removed]",
            "text/plain": [
              "<Figure size 640x480 with 1 Axes>"
            ]
          },
          "metadata": {},
          "output_type": "display_data"
        }
      ],
      "source": [
        "display_feature_importance(r, SVC())"
      ]
    },
    {
      "cell_type": "markdown",
      "id": "853fb580",
      "metadata": {
        "papermill": {
          "duration": 0.020713,
          "end_time": "2023-11-02T14:34:54.430722",
          "exception": false,
          "start_time": "2023-11-02T14:34:54.410009",
          "status": "completed"
        },
        "tags": [],
        "id": "853fb580"
      },
      "source": [
        "The red wines seem even simpler than the whites\n",
        "* one feature ```alchohol```, has a strong impact\n",
        "* one feature, ```density```, has a moderate impact\n",
        "* one feature, ```total sulfur dioxide```, has a small impact\n",
        "* the remaining features appear to be irrelevant\n",
        "\n",
        "Experience with the whites taught us to ignore the feature with little to no impact. That leaves us with just ***two*** features, ```alcohol``` and ```density```."
      ]
    },
    {
      "cell_type": "code",
      "execution_count": null,
      "id": "62765284",
      "metadata": {
        "execution": {
          "iopub.execute_input": "2023-11-02T14:34:54.466098Z",
          "iopub.status.busy": "2023-11-02T14:34:54.465117Z",
          "iopub.status.idle": "2023-11-02T14:34:54.576479Z",
          "shell.execute_reply": "2023-11-02T14:34:54.575280Z"
        },
        "papermill": {
          "duration": 0.131403,
          "end_time": "2023-11-02T14:34:54.579626",
          "exception": false,
          "start_time": "2023-11-02T14:34:54.448223",
          "status": "completed"
        },
        "tags": [],
        "id": "62765284",
        "outputId": "6dd355d7-d60e-4742-970a-6d9cd7117518"
      },
      "outputs": [
        {
          "data": {
            "text/plain": [
              "0.9525"
            ]
          },
          "execution_count": 20,
          "metadata": {},
          "output_type": "execute_result"
        }
      ],
      "source": [
        "features = ['density', 'alcohol']\n",
        "model.fit(r.X_train[features], r.y_train)\n",
        "pred = model.predict( r.X_test[features] )\n",
        "score_within_window( pred, r.y_test, WINDOW_SIZE)"
      ]
    },
    {
      "cell_type": "markdown",
      "id": "66f0f137",
      "metadata": {
        "papermill": {
          "duration": 0.019338,
          "end_time": "2023-11-02T14:34:54.617927",
          "exception": false,
          "start_time": "2023-11-02T14:34:54.598589",
          "status": "completed"
        },
        "tags": [],
        "id": "66f0f137"
      },
      "source": [
        "Again, limiting the feature set to just those with moderate to large impact appears to result in an ever so slight degredation in score. But, the score that remained even with the vastly reduced model was still extremely good."
      ]
    }
  ],
  "metadata": {
    "kernelspec": {
      "display_name": "Python 3",
      "language": "python",
      "name": "python3"
    },
    "language_info": {
      "codemirror_mode": {
        "name": "ipython",
        "version": 3
      },
      "file_extension": ".py",
      "mimetype": "text/x-python",
      "name": "python",
      "nbconvert_exporter": "python",
      "pygments_lexer": "ipython3",
      "version": "3.10.12"
    },
    "papermill": {
      "default_parameters": {},
      "duration": 46.974945,
      "end_time": "2023-11-02T14:34:55.359427",
      "environment_variables": {},
      "exception": null,
      "input_path": "__notebook__.ipynb",
      "output_path": "__notebook__.ipynb",
      "parameters": {},
      "start_time": "2023-11-02T14:34:08.384482",
      "version": "2.4.0"
    },
    "colab": {
      "provenance": []
    }
  },
  "nbformat": 4,
  "nbformat_minor": 5
}